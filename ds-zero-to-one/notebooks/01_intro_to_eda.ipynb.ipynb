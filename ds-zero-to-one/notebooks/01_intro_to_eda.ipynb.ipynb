{
 "cells": [
  {
   "cell_type": "markdown",
   "id": "14abe252-4778-4cf1-9baa-084a42621beb",
   "metadata": {},
   "source": [
    "# 01 Intro to EDA"
   ]
  },
  {
   "cell_type": "code",
   "execution_count": null,
   "id": "1f3a96b4-f545-4a54-b624-0c7c5dfaf3f3",
   "metadata": {},
   "outputs": [],
   "source": [
    "import duckdb, pandas as pd, matplotlib.pyplot as plt\n",
    "import plotly.express as px"
   ]
  },
  {
   "cell_type": "code",
   "execution_count": null,
   "id": "54764acf-9417-4f31-a963-90a59f360a11",
   "metadata": {},
   "outputs": [],
   "source": [
    "# # https://github.com/mwaskom/seaborn-data/blob/master/README.md\n",
    "\n",
    "# #best practices example\n",
    "# # --- 1. Import libraries ---\n",
    "# import duckdb\n",
    "# import pandas as pd\n",
    "# import os\n",
    "\n",
    "# # --- 2. Load dataset directly from seaborn's GitHub mirror ---\n",
    "# df = duckdb.query(\"\"\"\n",
    "#     SELECT * FROM read_csv_auto('https://raw.githubusercontent.com/mwaskom/seaborn-data/master/tips.csv')\n",
    "# \"\"\").df()\n",
    "\n",
    "# os.makedirs('../data/raw', exist_ok=True)\n",
    "# df.to_csv('../data/raw/tips.csv', index=False)\n",
    "\n"
   ]
  },
  {
   "cell_type": "code",
   "execution_count": null,
   "id": "aa7a47cc-3ee6-4b7d-a626-3898fb50f26a",
   "metadata": {},
   "outputs": [],
   "source": [
    "df.head()"
   ]
  },
  {
   "cell_type": "code",
   "execution_count": null,
   "id": "3994f6c8-95ef-49b5-910b-6450469480a6",
   "metadata": {},
   "outputs": [],
   "source": [
    "print(\"Original columns:\", list(df.columns))"
   ]
  },
  {
   "cell_type": "code",
   "execution_count": null,
   "id": "16a2cdc8-cc17-401b-88a8-69791170d482",
   "metadata": {},
   "outputs": [],
   "source": [
    "df.info()\n",
    "df.describe()\n",
    "df.isna().sum()"
   ]
  },
  {
   "cell_type": "code",
   "execution_count": null,
   "id": "0444bc63-b85d-4b3c-9bb0-e8155c78fc14",
   "metadata": {},
   "outputs": [],
   "source": [
    "df[df['total_bill'] > 20]"
   ]
  },
  {
   "cell_type": "code",
   "execution_count": null,
   "id": "7c19d37d-5d98-46b0-bd43-9e172578f2e6",
   "metadata": {},
   "outputs": [],
   "source": [
    "df['tip_pct'] = df.tip / df.total_bill"
   ]
  },
  {
   "cell_type": "code",
   "execution_count": null,
   "id": "03eaf622-abb7-41e3-8a7d-138a76095835",
   "metadata": {},
   "outputs": [],
   "source": [
    "df.head()"
   ]
  },
  {
   "cell_type": "code",
   "execution_count": null,
   "id": "a15afe6c-cb44-4879-94dc-6c2af863a2ea",
   "metadata": {},
   "outputs": [],
   "source": [
    "#df.rename(columns={'tip_pct': 'new_name'}, inplace=True)\n",
    "#df.head()"
   ]
  },
  {
   "cell_type": "code",
   "execution_count": null,
   "id": "57671e6b-c78f-4bd0-8b79-38d7d46e47f5",
   "metadata": {},
   "outputs": [],
   "source": [
    "df.groupby('day')['tip_pct'].mean()"
   ]
  },
  {
   "cell_type": "code",
   "execution_count": null,
   "id": "96ef26eb-e86e-41f7-aff0-b9b6f4aab7d9",
   "metadata": {},
   "outputs": [],
   "source": [
    "df['tip_pct'].hist()\n",
    "plt.show()"
   ]
  },
  {
   "cell_type": "code",
   "execution_count": null,
   "id": "83c033b3-005c-461a-9673-1bb74d452a0b",
   "metadata": {},
   "outputs": [],
   "source": [
    "px.scatter(df, x='total_bill', y='tip', color='day')"
   ]
  },
  {
   "cell_type": "markdown",
   "id": "872d43ed-2b0c-48f6-8856-426888d2e7de",
   "metadata": {},
   "source": [
    "### Best practices: Load from web site; clean; save CSV local"
   ]
  },
  {
   "cell_type": "code",
   "execution_count": null,
   "id": "7252ac31-2d4e-4a9a-8e36-436bacc62102",
   "metadata": {},
   "outputs": [],
   "source": [
    "#best practices example\n",
    "# --- 1. Import libraries ---\n",
    "import duckdb\n",
    "import pandas as pd\n",
    "import os\n",
    "\n",
    "# --- 2. Load dataset directly from seaborn's GitHub mirror ---\n",
    "df = duckdb.query(\"\"\"\n",
    "    SELECT * FROM read_csv_auto('https://raw.githubusercontent.com/mwaskom/seaborn-data/master/tips.csv')\n",
    "\"\"\").df()\n",
    "\n",
    "os.makedirs('../data/raw', exist_ok=True)\n",
    "df.to_csv('../data/raw/tips.csv', index=False)\n",
    "\n",
    "print(\"Original columns:\", list(df.columns))\n",
    "\n",
    "# --- 3. Clean column names ---\n",
    "# Strip whitespace, lowercase, replace spaces with underscores\n",
    "df.columns = df.columns.str.strip().str.lower().str.replace(' ', '_')\n",
    "\n",
    "# --- 4. Rename specific columns for clarity ---\n",
    "df.rename(columns={\n",
    "    'total_bill': 'bill_total_usd',\n",
    "    'tip': 'tip_usd',\n",
    "    'sex': 'gender',\n",
    "    'smoker': 'is_smoker',\n",
    "    'size': 'party_size'\n",
    "}, inplace=True)\n",
    "\n",
    "print(\"Renamed columns:\", list(df.columns))\n",
    "\n",
    "# --- 5. Add a computed column ---\n",
    "df['tip_pct'] = df['tip_usd'] / df['bill_total_usd']\n",
    "\n",
    "# --- 6. Verify ---\n",
    "display(df.head())\n",
    "\n",
    "# --- 7. Save cleaned version to your repo ---\n",
    "os.makedirs('../data/processed', exist_ok=True)\n",
    "df.to_csv('../data/processed/tips_cleaned.csv', index=False)\n",
    "\n",
    "print(\"✅ Cleaned dataset saved to: data/processed/tips_cleaned.csv\")\n"
   ]
  },
  {
   "cell_type": "markdown",
   "id": "0ef25a9b-9a5e-411f-9794-8f80c0d8e5bf",
   "metadata": {},
   "source": [
    "## Markdown examples"
   ]
  },
  {
   "cell_type": "markdown",
   "id": "d78e3ba2-d255-421f-bd05-3187e88a3d0d",
   "metadata": {},
   "source": [
    "```python\n",
    "print(\"Hello world\")\n"
   ]
  },
  {
   "cell_type": "markdown",
   "id": "1c187896-98f9-4a2c-ae50-9910cbe23701",
   "metadata": {},
   "source": [
    "\n",
    "**Bulleted list** (use dash or asterisk before each line) →  \n",
    "\n",
    "* First\n",
    "* Second\n",
    "* Third"
   ]
  },
  {
   "cell_type": "markdown",
   "id": "06e121bd-8ba6-4f2e-a871-8ac8928d6aed",
   "metadata": {},
   "source": [
    "**Numbered list** \n",
    "1. Step One\n",
    "2. Do this step\n",
    "1. Step Two"
   ]
  },
  {
   "cell_type": "markdown",
   "id": "22c049eb-27c1-422b-975d-40165e631ca8",
   "metadata": {},
   "source": [
    "---\n",
    "Horizontal line →  `---`  (see above in markdown)\n",
    "\n",
    "Link →  `[Link text](https://example.com)`  \n",
    "e.g.: `[Google](https://www.google.com)` #Renders as: [Google](https://www.google.com)\n",
    "\n",
    "Image →  `![Alt text](https://example.com/image.png)`  \n",
    "\n",
    "Blockquote →  `> Quoted or referenced text`  \n",
    "\n",
    "---\n",
    "\n",
    "✅ **Tip:**  \n",
    "In Jupyter, press **Esc → M** to switch a cell to Markdown,  \n",
    "then **Shift + Enter** to render it.  \n",
    "\n",
    "---\n",
    "\n",
    "**Bold text**\n",
    "\n",
    "_Italics (emphasis)_\n",
    "\n",
    "---\n",
    "\n",
    "> Quoted text"
   ]
  },
  {
   "cell_type": "markdown",
   "id": "cecf75c3-6daf-4916-aff9-f62b4f303d36",
   "metadata": {},
   "source": [
    "## Exploratory Analysis: Summary Statistics\n",
    "This section summarizes the key features of our dataset using descriptive statistics.\n"
   ]
  },
  {
   "cell_type": "code",
   "execution_count": null,
   "id": "cf48ddd3-3a09-4d49-93aa-85d1a9864753",
   "metadata": {},
   "outputs": [],
   "source": [
    "#best practices example\n",
    "# --- 1. Import libraries ---\n",
    "import duckdb\n",
    "import pandas as pd\n",
    "import os\n",
    "\n",
    "# --- 2. Load dataset saved previously above from seaborn's GitHub mirror ---\n",
    "df = duckdb.query(\"\"\"\n",
    "    SELECT * FROM read_csv_auto('../data/processed/tips_cleaned.csv')\n",
    "\"\"\").df()\n"
   ]
  },
  {
   "cell_type": "code",
   "execution_count": null,
   "id": "caa92ae7-3576-407b-9067-fffc58ff7a1a",
   "metadata": {},
   "outputs": [],
   "source": [
    "# “On average, girls left a slightly higher tip than boys.”\n",
    "df.describe(include='all')\n",
    "df.groupby('gender')['tip_pct'].mean()\n",
    "\n",
    "#describe() → “Give me a summary of all columns.”\n",
    "#groupby() → “Split the data into smaller groups and calculate something for each.”\n",
    "#['tip_pct'].mean() → “Within each group, average their tip percentage.”"
   ]
  },
  {
   "cell_type": "code",
   "execution_count": null,
   "id": "f3ad9f23-2ffc-4b01-ac62-33f4fa68297c",
   "metadata": {},
   "outputs": [],
   "source": [
    "df.describe(include='all')"
   ]
  },
  {
   "cell_type": "code",
   "execution_count": null,
   "id": "35cbee53-b257-4ef8-9970-b5a4ae534979",
   "metadata": {},
   "outputs": [],
   "source": [
    "df.info"
   ]
  },
  {
   "cell_type": "code",
   "execution_count": null,
   "id": "44745afd-8759-47c3-a7c5-04ec97dd31f3",
   "metadata": {},
   "outputs": [],
   "source": [
    "df['tip_pct'].hist()"
   ]
  },
  {
   "cell_type": "code",
   "execution_count": null,
   "id": "ce310259-a3ab-44d8-92fd-223f6c08eef4",
   "metadata": {},
   "outputs": [],
   "source": [
    "px.scatter(df, x='bill_total_usd', y='tip_usd', color='gender')"
   ]
  }
 ],
 "metadata": {
  "kernelspec": {
   "display_name": "Python (ds)",
   "language": "python",
   "name": "ds"
  },
  "language_info": {
   "codemirror_mode": {
    "name": "ipython",
    "version": 3
   },
   "file_extension": ".py",
   "mimetype": "text/x-python",
   "name": "python",
   "nbconvert_exporter": "python",
   "pygments_lexer": "ipython3",
   "version": "3.13.5"
  }
 },
 "nbformat": 4,
 "nbformat_minor": 5
}
