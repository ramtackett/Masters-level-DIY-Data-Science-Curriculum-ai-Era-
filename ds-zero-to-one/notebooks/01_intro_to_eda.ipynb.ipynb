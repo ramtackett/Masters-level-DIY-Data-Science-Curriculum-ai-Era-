{
 "cells": [
  {
   "cell_type": "code",
   "execution_count": null,
   "id": "1f3a96b4-f545-4a54-b624-0c7c5dfaf3f3",
   "metadata": {},
   "outputs": [],
   "source": [
    "import duckdb, pandas as pd, matplotlib.pyplot as plt\n",
    "import plotly.express as px"
   ]
  },
  {
   "cell_type": "code",
   "execution_count": null,
   "id": "54764acf-9417-4f31-a963-90a59f360a11",
   "metadata": {},
   "outputs": [],
   "source": [
    "df = duckdb.query(\"SELECT * FROM read_csv_auto('https://raw.githubusercontent.com/mwaskom/seaborn-data/master/tips.csv')\").df()\n",
    "df.head()"
   ]
  },
  {
   "cell_type": "code",
   "execution_count": null,
   "id": "16a2cdc8-cc17-401b-88a8-69791170d482",
   "metadata": {},
   "outputs": [],
   "source": [
    "df.info()\n",
    "df.describe()\n",
    "df.isna().sum()"
   ]
  },
  {
   "cell_type": "code",
   "execution_count": null,
   "id": "0444bc63-b85d-4b3c-9bb0-e8155c78fc14",
   "metadata": {},
   "outputs": [],
   "source": [
    "df[df['total_bill'] > 20]"
   ]
  },
  {
   "cell_type": "code",
   "execution_count": null,
   "id": "7c19d37d-5d98-46b0-bd43-9e172578f2e6",
   "metadata": {},
   "outputs": [],
   "source": [
    "df['tip_pct'] = df.tip / df.total_bill"
   ]
  },
  {
   "cell_type": "code",
   "execution_count": null,
   "id": "03eaf622-abb7-41e3-8a7d-138a76095835",
   "metadata": {},
   "outputs": [],
   "source": [
    "df.head()"
   ]
  },
  {
   "cell_type": "code",
   "execution_count": null,
   "id": "a15afe6c-cb44-4879-94dc-6c2af863a2ea",
   "metadata": {},
   "outputs": [],
   "source": [
    "#df.rename(columns={'tip_pct': 'new_name'}, inplace=True)\n",
    "#df.head()"
   ]
  },
  {
   "cell_type": "code",
   "execution_count": null,
   "id": "57671e6b-c78f-4bd0-8b79-38d7d46e47f5",
   "metadata": {},
   "outputs": [],
   "source": [
    "df.groupby('day')['tip_pct'].mean()"
   ]
  },
  {
   "cell_type": "code",
   "execution_count": null,
   "id": "96ef26eb-e86e-41f7-aff0-b9b6f4aab7d9",
   "metadata": {},
   "outputs": [],
   "source": [
    "df['tip_pct'].hist()\n",
    "plt.show()"
   ]
  },
  {
   "cell_type": "code",
   "execution_count": null,
   "id": "83c033b3-005c-461a-9673-1bb74d452a0b",
   "metadata": {},
   "outputs": [],
   "source": [
    "px.scatter(df, x='total_bill', y='tip', color='day')"
   ]
  }
 ],
 "metadata": {
  "kernelspec": {
   "display_name": "Python (ds)",
   "language": "python",
   "name": "ds"
  },
  "language_info": {
   "codemirror_mode": {
    "name": "ipython",
    "version": 3
   },
   "file_extension": ".py",
   "mimetype": "text/x-python",
   "name": "python",
   "nbconvert_exporter": "python",
   "pygments_lexer": "ipython3",
   "version": "3.13.5"
  }
 },
 "nbformat": 4,
 "nbformat_minor": 5
}
