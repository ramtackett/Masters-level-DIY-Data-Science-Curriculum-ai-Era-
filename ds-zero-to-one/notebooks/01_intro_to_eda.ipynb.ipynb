{
 "cells": [
  {
   "cell_type": "markdown",
   "id": "14abe252-4778-4cf1-9baa-084a42621beb",
   "metadata": {},
   "source": [
    "# 01 Intro to EDA"
   ]
  },
  {
   "cell_type": "code",
   "execution_count": null,
   "id": "1f3a96b4-f545-4a54-b624-0c7c5dfaf3f3",
   "metadata": {},
   "outputs": [],
   "source": [
    "import duckdb, pandas as pd, matplotlib.pyplot as plt\n",
    "import plotly.express as px"
   ]
  },
  {
   "cell_type": "code",
   "execution_count": 51,
   "id": "54764acf-9417-4f31-a963-90a59f360a11",
   "metadata": {},
   "outputs": [],
   "source": [
    "# # https://github.com/mwaskom/seaborn-data/blob/master/README.md\n",
    "\n",
    "# #best practices example\n",
    "# # --- 1. Import libraries ---\n",
    "# import duckdb\n",
    "# import pandas as pd\n",
    "# import os\n",
    "\n",
    "# # --- 2. Load dataset directly from seaborn's GitHub mirror ---\n",
    "# df = duckdb.query(\"\"\"\n",
    "#     SELECT * FROM read_csv_auto('https://raw.githubusercontent.com/mwaskom/seaborn-data/master/tips.csv')\n",
    "# \"\"\").df()\n",
    "\n",
    "# os.makedirs('../data/raw', exist_ok=True)\n",
    "# df.to_csv('../data/raw/tips.csv', index=False)\n",
    "\n"
   ]
  },
  {
   "cell_type": "code",
   "execution_count": 59,
   "id": "aa7a47cc-3ee6-4b7d-a626-3898fb50f26a",
   "metadata": {},
   "outputs": [
    {
     "data": {
      "text/html": [
       "<div>\n",
       "<style scoped>\n",
       "    .dataframe tbody tr th:only-of-type {\n",
       "        vertical-align: middle;\n",
       "    }\n",
       "\n",
       "    .dataframe tbody tr th {\n",
       "        vertical-align: top;\n",
       "    }\n",
       "\n",
       "    .dataframe thead th {\n",
       "        text-align: right;\n",
       "    }\n",
       "</style>\n",
       "<table border=\"1\" class=\"dataframe\">\n",
       "  <thead>\n",
       "    <tr style=\"text-align: right;\">\n",
       "      <th></th>\n",
       "      <th>total_bill</th>\n",
       "      <th>tip</th>\n",
       "      <th>sex</th>\n",
       "      <th>smoker</th>\n",
       "      <th>day</th>\n",
       "      <th>time</th>\n",
       "      <th>size</th>\n",
       "    </tr>\n",
       "  </thead>\n",
       "  <tbody>\n",
       "    <tr>\n",
       "      <th>0</th>\n",
       "      <td>16.99</td>\n",
       "      <td>1.01</td>\n",
       "      <td>Female</td>\n",
       "      <td>False</td>\n",
       "      <td>Sun</td>\n",
       "      <td>Dinner</td>\n",
       "      <td>2</td>\n",
       "    </tr>\n",
       "    <tr>\n",
       "      <th>1</th>\n",
       "      <td>10.34</td>\n",
       "      <td>1.66</td>\n",
       "      <td>Male</td>\n",
       "      <td>False</td>\n",
       "      <td>Sun</td>\n",
       "      <td>Dinner</td>\n",
       "      <td>3</td>\n",
       "    </tr>\n",
       "    <tr>\n",
       "      <th>2</th>\n",
       "      <td>21.01</td>\n",
       "      <td>3.50</td>\n",
       "      <td>Male</td>\n",
       "      <td>False</td>\n",
       "      <td>Sun</td>\n",
       "      <td>Dinner</td>\n",
       "      <td>3</td>\n",
       "    </tr>\n",
       "    <tr>\n",
       "      <th>3</th>\n",
       "      <td>23.68</td>\n",
       "      <td>3.31</td>\n",
       "      <td>Male</td>\n",
       "      <td>False</td>\n",
       "      <td>Sun</td>\n",
       "      <td>Dinner</td>\n",
       "      <td>2</td>\n",
       "    </tr>\n",
       "    <tr>\n",
       "      <th>4</th>\n",
       "      <td>24.59</td>\n",
       "      <td>3.61</td>\n",
       "      <td>Female</td>\n",
       "      <td>False</td>\n",
       "      <td>Sun</td>\n",
       "      <td>Dinner</td>\n",
       "      <td>4</td>\n",
       "    </tr>\n",
       "  </tbody>\n",
       "</table>\n",
       "</div>"
      ],
      "text/plain": [
       "   total_bill   tip     sex  smoker  day    time  size\n",
       "0       16.99  1.01  Female   False  Sun  Dinner     2\n",
       "1       10.34  1.66    Male   False  Sun  Dinner     3\n",
       "2       21.01  3.50    Male   False  Sun  Dinner     3\n",
       "3       23.68  3.31    Male   False  Sun  Dinner     2\n",
       "4       24.59  3.61  Female   False  Sun  Dinner     4"
      ]
     },
     "execution_count": 59,
     "metadata": {},
     "output_type": "execute_result"
    }
   ],
   "source": [
    "df.head()"
   ]
  },
  {
   "cell_type": "code",
   "execution_count": 58,
   "id": "3994f6c8-95ef-49b5-910b-6450469480a6",
   "metadata": {},
   "outputs": [
    {
     "name": "stdout",
     "output_type": "stream",
     "text": [
      "Original columns: ['total_bill', 'tip', 'sex', 'smoker', 'day', 'time', 'size']\n"
     ]
    }
   ],
   "source": [
    "print(\"Original columns:\", list(df.columns))"
   ]
  },
  {
   "cell_type": "code",
   "execution_count": 57,
   "id": "16a2cdc8-cc17-401b-88a8-69791170d482",
   "metadata": {},
   "outputs": [
    {
     "name": "stdout",
     "output_type": "stream",
     "text": [
      "<class 'pandas.core.frame.DataFrame'>\n",
      "RangeIndex: 244 entries, 0 to 243\n",
      "Data columns (total 7 columns):\n",
      " #   Column      Non-Null Count  Dtype  \n",
      "---  ------      --------------  -----  \n",
      " 0   total_bill  244 non-null    float64\n",
      " 1   tip         244 non-null    float64\n",
      " 2   sex         244 non-null    object \n",
      " 3   smoker      244 non-null    bool   \n",
      " 4   day         244 non-null    object \n",
      " 5   time        244 non-null    object \n",
      " 6   size        244 non-null    int64  \n",
      "dtypes: bool(1), float64(2), int64(1), object(3)\n",
      "memory usage: 11.8+ KB\n"
     ]
    },
    {
     "data": {
      "text/plain": [
       "total_bill    0\n",
       "tip           0\n",
       "sex           0\n",
       "smoker        0\n",
       "day           0\n",
       "time          0\n",
       "size          0\n",
       "dtype: int64"
      ]
     },
     "execution_count": 57,
     "metadata": {},
     "output_type": "execute_result"
    }
   ],
   "source": [
    "df.info()\n",
    "df.describe()\n",
    "df.isna().sum()"
   ]
  },
  {
   "cell_type": "code",
   "execution_count": null,
   "id": "0444bc63-b85d-4b3c-9bb0-e8155c78fc14",
   "metadata": {},
   "outputs": [],
   "source": [
    "df[df['total_bill'] > 20]"
   ]
  },
  {
   "cell_type": "code",
   "execution_count": 49,
   "id": "7c19d37d-5d98-46b0-bd43-9e172578f2e6",
   "metadata": {},
   "outputs": [
    {
     "ename": "AttributeError",
     "evalue": "'DataFrame' object has no attribute 'tip'",
     "output_type": "error",
     "traceback": [
      "\u001b[31m---------------------------------------------------------------------------\u001b[39m",
      "\u001b[31mAttributeError\u001b[39m                            Traceback (most recent call last)",
      "\u001b[32m/tmp/ipykernel_1803/2200628468.py\u001b[39m in \u001b[36m?\u001b[39m\u001b[34m()\u001b[39m\n\u001b[32m----> \u001b[39m\u001b[32m1\u001b[39m df[\u001b[33m'tip_pct'\u001b[39m] = df.tip / df.total_bill\n",
      "\u001b[32m~/miniconda3/envs/ds/lib/python3.13/site-packages/pandas/core/generic.py\u001b[39m in \u001b[36m?\u001b[39m\u001b[34m(self, name)\u001b[39m\n\u001b[32m   6317\u001b[39m             \u001b[38;5;28;01mand\u001b[39;00m name \u001b[38;5;28;01mnot\u001b[39;00m \u001b[38;5;28;01min\u001b[39;00m self._accessors\n\u001b[32m   6318\u001b[39m             \u001b[38;5;28;01mand\u001b[39;00m self._info_axis._can_hold_identifiers_and_holds_name(name)\n\u001b[32m   6319\u001b[39m         ):\n\u001b[32m   6320\u001b[39m             \u001b[38;5;28;01mreturn\u001b[39;00m self[name]\n\u001b[32m-> \u001b[39m\u001b[32m6321\u001b[39m         \u001b[38;5;28;01mreturn\u001b[39;00m object.__getattribute__(self, name)\n",
      "\u001b[31mAttributeError\u001b[39m: 'DataFrame' object has no attribute 'tip'"
     ]
    }
   ],
   "source": [
    "df['tip_pct'] = df.tip / df.total_bill"
   ]
  },
  {
   "cell_type": "code",
   "execution_count": null,
   "id": "03eaf622-abb7-41e3-8a7d-138a76095835",
   "metadata": {},
   "outputs": [],
   "source": [
    "df.head()"
   ]
  },
  {
   "cell_type": "code",
   "execution_count": null,
   "id": "a15afe6c-cb44-4879-94dc-6c2af863a2ea",
   "metadata": {},
   "outputs": [],
   "source": [
    "#df.rename(columns={'tip_pct': 'new_name'}, inplace=True)\n",
    "#df.head()"
   ]
  },
  {
   "cell_type": "code",
   "execution_count": null,
   "id": "57671e6b-c78f-4bd0-8b79-38d7d46e47f5",
   "metadata": {},
   "outputs": [],
   "source": [
    "df.groupby('day')['tip_pct'].mean()"
   ]
  },
  {
   "cell_type": "code",
   "execution_count": null,
   "id": "96ef26eb-e86e-41f7-aff0-b9b6f4aab7d9",
   "metadata": {},
   "outputs": [],
   "source": [
    "df['tip_pct'].hist()\n",
    "plt.show()"
   ]
  },
  {
   "cell_type": "code",
   "execution_count": null,
   "id": "83c033b3-005c-461a-9673-1bb74d452a0b",
   "metadata": {},
   "outputs": [],
   "source": [
    "px.scatter(df, x='total_bill', y='tip', color='day')"
   ]
  },
  {
   "cell_type": "markdown",
   "id": "872d43ed-2b0c-48f6-8856-426888d2e7de",
   "metadata": {},
   "source": [
    "### Best practices: Load from web site; clean; save CSV local"
   ]
  },
  {
   "cell_type": "code",
   "execution_count": null,
   "id": "7252ac31-2d4e-4a9a-8e36-436bacc62102",
   "metadata": {},
   "outputs": [],
   "source": [
    "#best practices example\n",
    "# --- 1. Import libraries ---\n",
    "import duckdb\n",
    "import pandas as pd\n",
    "import os\n",
    "\n",
    "# --- 2. Load dataset directly from seaborn's GitHub mirror ---\n",
    "df = duckdb.query(\"\"\"\n",
    "    SELECT * FROM read_csv_auto('https://raw.githubusercontent.com/mwaskom/seaborn-data/master/tips.csv')\n",
    "\"\"\").df()\n",
    "\n",
    "os.makedirs('../data/raw', exist_ok=True)\n",
    "df.to_csv('../data/raw/tips.csv', index=False)\n",
    "\n",
    "print(\"Original columns:\", list(df.columns))\n",
    "\n",
    "# --- 3. Clean column names ---\n",
    "# Strip whitespace, lowercase, replace spaces with underscores\n",
    "df.columns = df.columns.str.strip().str.lower().str.replace(' ', '_')\n",
    "\n",
    "# --- 4. Rename specific columns for clarity ---\n",
    "df.rename(columns={\n",
    "    'total_bill': 'bill_total_usd',\n",
    "    'tip': 'tip_usd',\n",
    "    'sex': 'gender',\n",
    "    'smoker': 'is_smoker',\n",
    "    'size': 'party_size'\n",
    "}, inplace=True)\n",
    "\n",
    "print(\"Renamed columns:\", list(df.columns))\n",
    "\n",
    "# --- 5. Add a computed column ---\n",
    "df['tip_pct'] = df['tip_usd'] / df['bill_total_usd']\n",
    "\n",
    "# --- 6. Verify ---\n",
    "display(df.head())\n",
    "\n",
    "# --- 7. Save cleaned version to your repo ---\n",
    "os.makedirs('../data/processed', exist_ok=True)\n",
    "df.to_csv('../data/processed/tips_cleaned.csv', index=False)\n",
    "\n",
    "print(\"✅ Cleaned dataset saved to: data/processed/tips_cleaned.csv\")\n"
   ]
  },
  {
   "cell_type": "markdown",
   "id": "0ef25a9b-9a5e-411f-9794-8f80c0d8e5bf",
   "metadata": {},
   "source": [
    "## Markdown examples"
   ]
  },
  {
   "cell_type": "markdown",
   "id": "d78e3ba2-d255-421f-bd05-3187e88a3d0d",
   "metadata": {},
   "source": [
    "```python\n",
    "print(\"Hello world\")\n"
   ]
  },
  {
   "cell_type": "markdown",
   "id": "1c187896-98f9-4a2c-ae50-9910cbe23701",
   "metadata": {},
   "source": [
    "\n",
    "**Bulleted list** (use dash or asterisk before each line) →  \n",
    "\n",
    "* First\n",
    "* Second\n",
    "* Third"
   ]
  },
  {
   "cell_type": "markdown",
   "id": "06e121bd-8ba6-4f2e-a871-8ac8928d6aed",
   "metadata": {},
   "source": [
    "**Numbered list** \n",
    "1. Step One\n",
    "2. Do this step\n",
    "1. Step Two"
   ]
  },
  {
   "cell_type": "markdown",
   "id": "22c049eb-27c1-422b-975d-40165e631ca8",
   "metadata": {},
   "source": [
    "---\n",
    "Horizontal line →  `---`  (see above in markdown)\n",
    "\n",
    "Link →  `[Link text](https://example.com)`  \n",
    "e.g.: `[Google](https://www.google.com)` #Renders as: [Google](https://www.google.com)\n",
    "\n",
    "Image →  `![Alt text](https://example.com/image.png)`  \n",
    "\n",
    "Blockquote →  `> Quoted or referenced text`  \n",
    "\n",
    "---\n",
    "\n",
    "✅ **Tip:**  \n",
    "In Jupyter, press **Esc → M** to switch a cell to Markdown,  \n",
    "then **Shift + Enter** to render it.  \n",
    "\n",
    "---\n",
    "\n",
    "**Bold text**\n",
    "\n",
    "_Italics (emphasis)_\n",
    "\n",
    "---\n",
    "\n",
    "> Quoted text"
   ]
  },
  {
   "cell_type": "markdown",
   "id": "cecf75c3-6daf-4916-aff9-f62b4f303d36",
   "metadata": {},
   "source": [
    "## Exploratory Analysis: Summary Statistics\n",
    "This section summarizes the key features of our dataset using descriptive statistics.\n"
   ]
  },
  {
   "cell_type": "code",
   "execution_count": 60,
   "id": "cf48ddd3-3a09-4d49-93aa-85d1a9864753",
   "metadata": {},
   "outputs": [],
   "source": [
    "#best practices example\n",
    "# --- 1. Import libraries ---\n",
    "import duckdb\n",
    "import pandas as pd\n",
    "import os\n",
    "\n",
    "# --- 2. Load dataset saved previously above from seaborn's GitHub mirror ---\n",
    "df = duckdb.query(\"\"\"\n",
    "    SELECT * FROM read_csv_auto('../data/processed/tips_cleaned.csv')\n",
    "\"\"\").df()\n"
   ]
  },
  {
   "cell_type": "code",
   "execution_count": 61,
   "id": "caa92ae7-3576-407b-9067-fffc58ff7a1a",
   "metadata": {},
   "outputs": [
    {
     "data": {
      "text/plain": [
       "gender\n",
       "Female    0.166491\n",
       "Male      0.157651\n",
       "Name: tip_pct, dtype: float64"
      ]
     },
     "execution_count": 61,
     "metadata": {},
     "output_type": "execute_result"
    }
   ],
   "source": [
    "# “On average, girls left a slightly higher tip than boys.”\n",
    "df.describe(include='all')\n",
    "df.groupby('gender')['tip_pct'].mean()\n",
    "\n",
    "#describe() → “Give me a summary of all columns.”\n",
    "#groupby() → “Split the data into smaller groups and calculate something for each.”\n",
    "#['tip_pct'].mean() → “Within each group, average their tip percentage.”"
   ]
  },
  {
   "cell_type": "code",
   "execution_count": 62,
   "id": "f3ad9f23-2ffc-4b01-ac62-33f4fa68297c",
   "metadata": {},
   "outputs": [
    {
     "data": {
      "text/html": [
       "<div>\n",
       "<style scoped>\n",
       "    .dataframe tbody tr th:only-of-type {\n",
       "        vertical-align: middle;\n",
       "    }\n",
       "\n",
       "    .dataframe tbody tr th {\n",
       "        vertical-align: top;\n",
       "    }\n",
       "\n",
       "    .dataframe thead th {\n",
       "        text-align: right;\n",
       "    }\n",
       "</style>\n",
       "<table border=\"1\" class=\"dataframe\">\n",
       "  <thead>\n",
       "    <tr style=\"text-align: right;\">\n",
       "      <th></th>\n",
       "      <th>bill_total_usd</th>\n",
       "      <th>tip_usd</th>\n",
       "      <th>gender</th>\n",
       "      <th>is_smoker</th>\n",
       "      <th>day</th>\n",
       "      <th>time</th>\n",
       "      <th>party_size</th>\n",
       "      <th>tip_pct</th>\n",
       "    </tr>\n",
       "  </thead>\n",
       "  <tbody>\n",
       "    <tr>\n",
       "      <th>count</th>\n",
       "      <td>244.000000</td>\n",
       "      <td>244.000000</td>\n",
       "      <td>244</td>\n",
       "      <td>244</td>\n",
       "      <td>244</td>\n",
       "      <td>244</td>\n",
       "      <td>244.000000</td>\n",
       "      <td>244.000000</td>\n",
       "    </tr>\n",
       "    <tr>\n",
       "      <th>unique</th>\n",
       "      <td>NaN</td>\n",
       "      <td>NaN</td>\n",
       "      <td>2</td>\n",
       "      <td>2</td>\n",
       "      <td>4</td>\n",
       "      <td>2</td>\n",
       "      <td>NaN</td>\n",
       "      <td>NaN</td>\n",
       "    </tr>\n",
       "    <tr>\n",
       "      <th>top</th>\n",
       "      <td>NaN</td>\n",
       "      <td>NaN</td>\n",
       "      <td>Male</td>\n",
       "      <td>False</td>\n",
       "      <td>Sat</td>\n",
       "      <td>Dinner</td>\n",
       "      <td>NaN</td>\n",
       "      <td>NaN</td>\n",
       "    </tr>\n",
       "    <tr>\n",
       "      <th>freq</th>\n",
       "      <td>NaN</td>\n",
       "      <td>NaN</td>\n",
       "      <td>157</td>\n",
       "      <td>151</td>\n",
       "      <td>87</td>\n",
       "      <td>176</td>\n",
       "      <td>NaN</td>\n",
       "      <td>NaN</td>\n",
       "    </tr>\n",
       "    <tr>\n",
       "      <th>mean</th>\n",
       "      <td>19.785943</td>\n",
       "      <td>2.998279</td>\n",
       "      <td>NaN</td>\n",
       "      <td>NaN</td>\n",
       "      <td>NaN</td>\n",
       "      <td>NaN</td>\n",
       "      <td>2.569672</td>\n",
       "      <td>0.160803</td>\n",
       "    </tr>\n",
       "    <tr>\n",
       "      <th>std</th>\n",
       "      <td>8.902412</td>\n",
       "      <td>1.383638</td>\n",
       "      <td>NaN</td>\n",
       "      <td>NaN</td>\n",
       "      <td>NaN</td>\n",
       "      <td>NaN</td>\n",
       "      <td>0.951100</td>\n",
       "      <td>0.061072</td>\n",
       "    </tr>\n",
       "    <tr>\n",
       "      <th>min</th>\n",
       "      <td>3.070000</td>\n",
       "      <td>1.000000</td>\n",
       "      <td>NaN</td>\n",
       "      <td>NaN</td>\n",
       "      <td>NaN</td>\n",
       "      <td>NaN</td>\n",
       "      <td>1.000000</td>\n",
       "      <td>0.035638</td>\n",
       "    </tr>\n",
       "    <tr>\n",
       "      <th>25%</th>\n",
       "      <td>13.347500</td>\n",
       "      <td>2.000000</td>\n",
       "      <td>NaN</td>\n",
       "      <td>NaN</td>\n",
       "      <td>NaN</td>\n",
       "      <td>NaN</td>\n",
       "      <td>2.000000</td>\n",
       "      <td>0.129127</td>\n",
       "    </tr>\n",
       "    <tr>\n",
       "      <th>50%</th>\n",
       "      <td>17.795000</td>\n",
       "      <td>2.900000</td>\n",
       "      <td>NaN</td>\n",
       "      <td>NaN</td>\n",
       "      <td>NaN</td>\n",
       "      <td>NaN</td>\n",
       "      <td>2.000000</td>\n",
       "      <td>0.154770</td>\n",
       "    </tr>\n",
       "    <tr>\n",
       "      <th>75%</th>\n",
       "      <td>24.127500</td>\n",
       "      <td>3.562500</td>\n",
       "      <td>NaN</td>\n",
       "      <td>NaN</td>\n",
       "      <td>NaN</td>\n",
       "      <td>NaN</td>\n",
       "      <td>3.000000</td>\n",
       "      <td>0.191475</td>\n",
       "    </tr>\n",
       "    <tr>\n",
       "      <th>max</th>\n",
       "      <td>50.810000</td>\n",
       "      <td>10.000000</td>\n",
       "      <td>NaN</td>\n",
       "      <td>NaN</td>\n",
       "      <td>NaN</td>\n",
       "      <td>NaN</td>\n",
       "      <td>6.000000</td>\n",
       "      <td>0.710345</td>\n",
       "    </tr>\n",
       "  </tbody>\n",
       "</table>\n",
       "</div>"
      ],
      "text/plain": [
       "        bill_total_usd     tip_usd gender is_smoker  day    time  party_size  \\\n",
       "count       244.000000  244.000000    244       244  244     244  244.000000   \n",
       "unique             NaN         NaN      2         2    4       2         NaN   \n",
       "top                NaN         NaN   Male     False  Sat  Dinner         NaN   \n",
       "freq               NaN         NaN    157       151   87     176         NaN   \n",
       "mean         19.785943    2.998279    NaN       NaN  NaN     NaN    2.569672   \n",
       "std           8.902412    1.383638    NaN       NaN  NaN     NaN    0.951100   \n",
       "min           3.070000    1.000000    NaN       NaN  NaN     NaN    1.000000   \n",
       "25%          13.347500    2.000000    NaN       NaN  NaN     NaN    2.000000   \n",
       "50%          17.795000    2.900000    NaN       NaN  NaN     NaN    2.000000   \n",
       "75%          24.127500    3.562500    NaN       NaN  NaN     NaN    3.000000   \n",
       "max          50.810000   10.000000    NaN       NaN  NaN     NaN    6.000000   \n",
       "\n",
       "           tip_pct  \n",
       "count   244.000000  \n",
       "unique         NaN  \n",
       "top            NaN  \n",
       "freq           NaN  \n",
       "mean      0.160803  \n",
       "std       0.061072  \n",
       "min       0.035638  \n",
       "25%       0.129127  \n",
       "50%       0.154770  \n",
       "75%       0.191475  \n",
       "max       0.710345  "
      ]
     },
     "execution_count": 62,
     "metadata": {},
     "output_type": "execute_result"
    }
   ],
   "source": [
    "df.describe(include='all')"
   ]
  },
  {
   "cell_type": "code",
   "execution_count": 63,
   "id": "35cbee53-b257-4ef8-9970-b5a4ae534979",
   "metadata": {},
   "outputs": [
    {
     "data": {
      "text/plain": [
       "<bound method DataFrame.info of      bill_total_usd  tip_usd  gender  is_smoker   day    time  party_size  \\\n",
       "0             16.99     1.01  Female      False   Sun  Dinner           2   \n",
       "1             10.34     1.66    Male      False   Sun  Dinner           3   \n",
       "2             21.01     3.50    Male      False   Sun  Dinner           3   \n",
       "3             23.68     3.31    Male      False   Sun  Dinner           2   \n",
       "4             24.59     3.61  Female      False   Sun  Dinner           4   \n",
       "..              ...      ...     ...        ...   ...     ...         ...   \n",
       "239           29.03     5.92    Male      False   Sat  Dinner           3   \n",
       "240           27.18     2.00  Female       True   Sat  Dinner           2   \n",
       "241           22.67     2.00    Male       True   Sat  Dinner           2   \n",
       "242           17.82     1.75    Male      False   Sat  Dinner           2   \n",
       "243           18.78     3.00  Female      False  Thur  Dinner           2   \n",
       "\n",
       "      tip_pct  \n",
       "0    0.059447  \n",
       "1    0.160542  \n",
       "2    0.166587  \n",
       "3    0.139780  \n",
       "4    0.146808  \n",
       "..        ...  \n",
       "239  0.203927  \n",
       "240  0.073584  \n",
       "241  0.088222  \n",
       "242  0.098204  \n",
       "243  0.159744  \n",
       "\n",
       "[244 rows x 8 columns]>"
      ]
     },
     "execution_count": 63,
     "metadata": {},
     "output_type": "execute_result"
    }
   ],
   "source": [
    "df.info"
   ]
  },
  {
   "cell_type": "code",
   "execution_count": null,
   "id": "44745afd-8759-47c3-a7c5-04ec97dd31f3",
   "metadata": {},
   "outputs": [],
   "source": []
  }
 ],
 "metadata": {
  "kernelspec": {
   "display_name": "Python (ds)",
   "language": "python",
   "name": "ds"
  },
  "language_info": {
   "codemirror_mode": {
    "name": "ipython",
    "version": 3
   },
   "file_extension": ".py",
   "mimetype": "text/x-python",
   "name": "python",
   "nbconvert_exporter": "python",
   "pygments_lexer": "ipython3",
   "version": "3.13.5"
  }
 },
 "nbformat": 4,
 "nbformat_minor": 5
}
