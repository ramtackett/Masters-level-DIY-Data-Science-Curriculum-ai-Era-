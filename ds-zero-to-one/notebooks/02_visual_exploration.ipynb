{
 "cells": [
  {
   "cell_type": "code",
   "execution_count": null,
   "id": "858c0a57-62d8-46a2-b19f-2d89bade19c0",
   "metadata": {},
   "outputs": [],
   "source": [
    "#best practices example\n",
    "# --- 1. Import libraries ---\n",
    "import duckdb\n",
    "import pandas as pd\n",
    "import os\n",
    "import matplotlib.pyplot as plt\n",
    "import plotly.express as px\n",
    "\n",
    "# --- 2. Load dataset saved previously above from seaborn's GitHub mirror ---\n",
    "df = duckdb.query(\"\"\"\n",
    "    SELECT * FROM read_csv_auto('../data/processed/tips_cleaned.csv')\n",
    "\"\"\").df()\n"
   ]
  },
  {
   "cell_type": "code",
   "execution_count": null,
   "id": "2dc427ed-c292-426e-85ef-ae502e49259e",
   "metadata": {},
   "outputs": [],
   "source": [
    "df.info"
   ]
  },
  {
   "cell_type": "code",
   "execution_count": null,
   "id": "41b5a016-9ece-4614-ae39-bc2c028716e6",
   "metadata": {},
   "outputs": [],
   "source": [
    "df['tip_pct'].hist(bins=20)"
   ]
  },
  {
   "cell_type": "code",
   "execution_count": null,
   "id": "795a2042-9868-40d3-a26a-7daa0c99478d",
   "metadata": {},
   "outputs": [],
   "source": [
    " df.boxplot(column='tip_pct', by='gender')"
   ]
  },
  {
   "cell_type": "code",
   "execution_count": null,
   "id": "4b47b3ef-69ef-48f2-8b01-e6b512003b2a",
   "metadata": {},
   "outputs": [],
   "source": [
    "import matplotlib.pyplot as plt\n",
    "\n",
    "# Create the boxplot\n",
    "ax = df.boxplot(column='tip_pct', by='gender', figsize=(6, 4))\n",
    "\n",
    "# Add a title\n",
    "plt.title(\"Tip Percentage by Gender\")\n",
    "plt.suptitle(\"\")  # Removes the default pandas subtitle\n",
    "plt.xlabel(\"Gender\")\n",
    "plt.ylabel(\"Tip %\")\n",
    "\n",
    "# Save as JPG\n",
    "plt.savefig(\"../reports/figures/tip_pct_by_gender.jpg\", format='jpg', dpi=300, bbox_inches='tight')\n",
    "\n",
    "# Show plot in notebook\n",
    "plt.show()\n"
   ]
  },
  {
   "cell_type": "code",
   "execution_count": null,
   "id": "383f3638-b5e5-4a3d-9b11-7dfc6f5db752",
   "metadata": {},
   "outputs": [],
   "source": [
    "df.plot.scatter(x='bill_total_usd', y='tip_usd', alpha=0.7)"
   ]
  },
  {
   "cell_type": "code",
   "execution_count": null,
   "id": "9dbbc13d-8fa7-4a49-9ba1-96efbd9172d3",
   "metadata": {},
   "outputs": [],
   "source": [
    "px.scatter(df, x='bill_total_usd', y='tip_usd', color='gender')"
   ]
  },
  {
   "cell_type": "code",
   "execution_count": null,
   "id": "52c7e48f-d59b-4a3f-8642-c0d68b137c4e",
   "metadata": {},
   "outputs": [],
   "source": [
    "import plotly.express as px\n",
    "import pandas as pd\n",
    "import os\n",
    "\n",
    "# If you already have df in memory, skip this load:\n",
    "# df = pd.read_csv(\"../data/processed/tips_cleaned.csv\")\n",
    "\n",
    "# Interactive boxplot (hover to see values, zoom/pan)\n",
    "fig = px.box(\n",
    "    df,\n",
    "    x=\"gender\",\n",
    "    y=\"tip_pct\",\n",
    "    points=\"outliers\",          # show outlier points (use \"all\" to show every point)\n",
    "    title=\"Tip Percentage by Gender (Interactive)\",\n",
    ")\n",
    "\n",
    "# Nice labels + percent formatting\n",
    "fig.update_layout(\n",
    "    xaxis_title=\"Gender\",\n",
    "    yaxis_title=\"Tip %\",\n",
    "    template=\"plotly_white\",\n",
    ")\n",
    "fig.update_yaxes(tickformat=\".0%\")   # show as percent\n",
    "\n",
    "fig.show()\n"
   ]
  },
  {
   "cell_type": "code",
   "execution_count": null,
   "id": "5ac31445-3d9b-43c2-8514-4d97bea7931f",
   "metadata": {},
   "outputs": [],
   "source": [
    "import kaleido\n",
    "print(\"Chrome path:\", kaleido.get_chrome_sync())\n",
    "\n",
    "# Ensure figures folder exists\n",
    "os.makedirs(\"../reports/figures\", exist_ok=True)\n",
    "\n",
    "# 1) Save interactive HTML (best for sharing)\n",
    "fig.write_html(\"../reports/figures/tip_pct_by_gender_interactive.html\")\n",
    "\n",
    "# 2) Save a static PNG/JPG (requires kaleido once)\n",
    "#   pip install -U kaleido\n",
    "fig.write_image(\"../reports/figures/tip_pct_by_gender.png\", scale=2)\n",
    "# or:\n",
    "# fig.write_image(\"../reports/figures/tip_pct_by_gender.jpg\", scale=2)\n"
   ]
  },
  {
   "cell_type": "code",
   "execution_count": null,
   "id": "9089d64e-71c1-40f6-a216-b1a13a2c9607",
   "metadata": {},
   "outputs": [],
   "source": [
    "import plotly.express as px\n",
    "#pip install statsmodels\n",
    "px.scatter(df, x='bill_total_usd', y='tip_usd', color='gender', trendline='ols')"
   ]
  },
  {
   "cell_type": "code",
   "execution_count": null,
   "id": "030a07f7-1cc1-4001-a671-a8c0e204b057",
   "metadata": {},
   "outputs": [],
   "source": [
    "import plotly.express as px\n",
    "#pip install statsmodels\n",
    "fig = px.scatter(df, x='bill_total_usd', y='tip_usd', color='gender', trendline='ols')"
   ]
  },
  {
   "cell_type": "code",
   "execution_count": null,
   "id": "01f5baef-55f4-4e7a-8f3a-6c8a84742744",
   "metadata": {},
   "outputs": [],
   "source": [
    "fig.show()"
   ]
  },
  {
   "cell_type": "code",
   "execution_count": null,
   "id": "81da2fba-6e8c-4e47-a673-7b52f82f6e13",
   "metadata": {},
   "outputs": [],
   "source": [
    "\n",
    "#sudo apt install -y libasound2t64\n",
    "# sudo apt install -y \\\n",
    "#   libnss3 libatk-bridge2.0-0 libcups2 libxcomposite1 libxdamage1 \\\n",
    "#   libxfixes3 libxrandr2 libgbm1 libxkbcommon0 libpango-1.0-0 libcairo2\n",
    "\n",
    "#save the plot \n",
    "fig.write_image(\"../reports/figures/bill_total_usd_tip_gender.png\", scale=2)"
   ]
  },
  {
   "cell_type": "code",
   "execution_count": null,
   "id": "d3d8d56d-21e9-4615-94ce-32a2b28e6683",
   "metadata": {},
   "outputs": [],
   "source": [
    " px.box(df, x='day', y='tip_pct', color='is_smoker')"
   ]
  },
  {
   "cell_type": "code",
   "execution_count": null,
   "id": "c2a366a9-91e2-4703-952a-4c5c8a1bd04f",
   "metadata": {},
   "outputs": [],
   "source": [
    "df.day.unique()"
   ]
  },
  {
   "cell_type": "code",
   "execution_count": null,
   "id": "981fb15c-a063-43d1-b4b0-52415d77e4ee",
   "metadata": {},
   "outputs": [],
   "source": [
    "# Facet by day (small multiples)\n",
    "px.scatter(df, x=\"bill_total_usd\", y=\"tip_pct\", color=\"gender\",\n",
    "           facet_col=\"day\", trendline=\"ols\",\n",
    "           title=\"Tip % vs Bill by Day\").update_yaxes(tickformat=\".0%\")\n"
   ]
  },
  {
   "cell_type": "code",
   "execution_count": null,
   "id": "81f994de-188d-406b-8baf-3d14efd8c884",
   "metadata": {},
   "outputs": [],
   "source": [
    "# Boxplot by day & gender\n",
    "px.box(df, x=\"day\", y=\"tip_pct\", color=\"gender\",\n",
    "       title=\"Tip % by Day and Gender\").update_yaxes(tickformat=\".0%\")\n"
   ]
  },
  {
   "cell_type": "code",
   "execution_count": null,
   "id": "f8039fbf-1cd9-4b90-870c-686d95ae8adb",
   "metadata": {},
   "outputs": [],
   "source": [
    "print(sorted(df.columns.tolist()))"
   ]
  },
  {
   "cell_type": "code",
   "execution_count": null,
   "id": "5ebafe4f-a456-4614-a250-8b9ce6f55f19",
   "metadata": {},
   "outputs": [],
   "source": [
    "#TODO: ■ PART 2 — Interactive Plotly Views (30–45 min)"
   ]
  }
 ],
 "metadata": {
  "kernelspec": {
   "display_name": "Python (ds)",
   "language": "python",
   "name": "ds"
  },
  "language_info": {
   "codemirror_mode": {
    "name": "ipython",
    "version": 3
   },
   "file_extension": ".py",
   "mimetype": "text/x-python",
   "name": "python",
   "nbconvert_exporter": "python",
   "pygments_lexer": "ipython3",
   "version": "3.13.5"
  }
 },
 "nbformat": 4,
 "nbformat_minor": 5
}
