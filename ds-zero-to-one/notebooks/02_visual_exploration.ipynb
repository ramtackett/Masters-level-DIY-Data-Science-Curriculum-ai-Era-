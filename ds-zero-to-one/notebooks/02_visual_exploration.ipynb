{
 "cells": [
  {
   "cell_type": "code",
   "execution_count": null,
   "id": "858c0a57-62d8-46a2-b19f-2d89bade19c0",
   "metadata": {},
   "outputs": [],
   "source": [
    "#best practices example\n",
    "# --- 1. Import libraries ---\n",
    "import duckdb\n",
    "import pandas as pd\n",
    "import os\n",
    "import matplotlib.pyplot as plt\n",
    "import plotly.express as px\n",
    "\n",
    "# --- 2. Load dataset saved previously above from seaborn's GitHub mirror ---\n",
    "df = duckdb.query(\"\"\"\n",
    "    SELECT * FROM read_csv_auto('../data/processed/tips_cleaned.csv')\n",
    "\"\"\").df()\n"
   ]
  },
  {
   "cell_type": "code",
   "execution_count": null,
   "id": "2dc427ed-c292-426e-85ef-ae502e49259e",
   "metadata": {},
   "outputs": [],
   "source": [
    "df.info"
   ]
  },
  {
   "cell_type": "code",
   "execution_count": null,
   "id": "41b5a016-9ece-4614-ae39-bc2c028716e6",
   "metadata": {},
   "outputs": [],
   "source": [
    "df['tip_pct'].hist(bins=20)"
   ]
  },
  {
   "cell_type": "code",
   "execution_count": null,
   "id": "795a2042-9868-40d3-a26a-7daa0c99478d",
   "metadata": {},
   "outputs": [],
   "source": [
    " df.boxplot(column='tip_pct', by='gender')"
   ]
  },
  {
   "cell_type": "code",
   "execution_count": null,
   "id": "4b47b3ef-69ef-48f2-8b01-e6b512003b2a",
   "metadata": {},
   "outputs": [],
   "source": [
    "import matplotlib.pyplot as plt\n",
    "\n",
    "# Create the boxplot\n",
    "ax = df.boxplot(column='tip_pct', by='gender', figsize=(6, 4))\n",
    "\n",
    "# Add a title\n",
    "plt.title(\"Tip Percentage by Gender\")\n",
    "plt.suptitle(\"\")  # Removes the default pandas subtitle\n",
    "plt.xlabel(\"Gender\")\n",
    "plt.ylabel(\"Tip %\")\n",
    "\n",
    "# Save as JPG\n",
    "plt.savefig(\"../reports/figures/tip_pct_by_gender.jpg\", format='jpg', dpi=300, bbox_inches='tight')\n",
    "\n",
    "# Show plot in notebook\n",
    "plt.show()\n"
   ]
  },
  {
   "cell_type": "code",
   "execution_count": null,
   "id": "383f3638-b5e5-4a3d-9b11-7dfc6f5db752",
   "metadata": {},
   "outputs": [],
   "source": [
    "df.plot.scatter(x='bill_total_usd', y='tip_usd', alpha=0.7)"
   ]
  },
  {
   "cell_type": "code",
   "execution_count": null,
   "id": "9dbbc13d-8fa7-4a49-9ba1-96efbd9172d3",
   "metadata": {},
   "outputs": [],
   "source": [
    "px.scatter(df, x='bill_total_usd', y='tip_usd', color='gender')"
   ]
  },
  {
   "cell_type": "code",
   "execution_count": null,
   "id": "52c7e48f-d59b-4a3f-8642-c0d68b137c4e",
   "metadata": {},
   "outputs": [],
   "source": [
    "import plotly.express as px\n",
    "import pandas as pd\n",
    "import os\n",
    "\n",
    "# If you already have df in memory, skip this load:\n",
    "# df = pd.read_csv(\"../data/processed/tips_cleaned.csv\")\n",
    "\n",
    "# Interactive boxplot (hover to see values, zoom/pan)\n",
    "fig = px.box(\n",
    "    df,\n",
    "    x=\"gender\",\n",
    "    y=\"tip_pct\",\n",
    "    points=\"outliers\",          # show outlier points (use \"all\" to show every point)\n",
    "    title=\"Tip Percentage by Gender (Interactive)\",\n",
    ")\n",
    "\n",
    "# Nice labels + percent formatting\n",
    "fig.update_layout(\n",
    "    xaxis_title=\"Gender\",\n",
    "    yaxis_title=\"Tip %\",\n",
    "    template=\"plotly_white\",\n",
    ")\n",
    "fig.update_yaxes(tickformat=\".0%\")   # show as percent\n",
    "\n",
    "fig.show()\n"
   ]
  },
  {
   "cell_type": "code",
   "execution_count": null,
   "id": "5ac31445-3d9b-43c2-8514-4d97bea7931f",
   "metadata": {},
   "outputs": [],
   "source": [
    "import kaleido\n",
    "print(\"Chrome path:\", kaleido.get_chrome_sync())\n",
    "\n",
    "# Ensure figures folder exists\n",
    "os.makedirs(\"../reports/figures\", exist_ok=True)\n",
    "\n",
    "# 1) Save interactive HTML (best for sharing)\n",
    "fig.write_html(\"../reports/figures/tip_pct_by_gender_interactive.html\")\n",
    "\n",
    "# 2) Save a static PNG/JPG (requires kaleido once)\n",
    "#   pip install -U kaleido\n",
    "fig.write_image(\"../reports/figures/tip_pct_by_gender.png\", scale=2)\n",
    "# or:\n",
    "# fig.write_image(\"../reports/figures/tip_pct_by_gender.jpg\", scale=2)\n"
   ]
  },
  {
   "cell_type": "code",
   "execution_count": null,
   "id": "9089d64e-71c1-40f6-a216-b1a13a2c9607",
   "metadata": {},
   "outputs": [],
   "source": [
    "import plotly.express as px\n",
    "#pip install statsmodels\n",
    "px.scatter(df, x='bill_total_usd', y='tip_usd', color='gender', trendline='ols')"
   ]
  },
  {
   "cell_type": "code",
   "execution_count": null,
   "id": "030a07f7-1cc1-4001-a671-a8c0e204b057",
   "metadata": {},
   "outputs": [],
   "source": [
    "import plotly.express as px\n",
    "#pip install statsmodels\n",
    "fig = px.scatter(df, x='bill_total_usd', y='tip_usd', color='gender', trendline='ols')"
   ]
  },
  {
   "cell_type": "code",
   "execution_count": null,
   "id": "01f5baef-55f4-4e7a-8f3a-6c8a84742744",
   "metadata": {},
   "outputs": [],
   "source": [
    "fig.show()"
   ]
  },
  {
   "cell_type": "code",
   "execution_count": null,
   "id": "81da2fba-6e8c-4e47-a673-7b52f82f6e13",
   "metadata": {},
   "outputs": [],
   "source": [
    "\n",
    "#sudo apt install -y libasound2t64\n",
    "# sudo apt install -y \\\n",
    "#   libnss3 libatk-bridge2.0-0 libcups2 libxcomposite1 libxdamage1 \\\n",
    "#   libxfixes3 libxrandr2 libgbm1 libxkbcommon0 libpango-1.0-0 libcairo2\n",
    "\n",
    "#save the plot \n",
    "fig.write_image(\"../reports/figures/bill_total_usd_tip_gender.png\", scale=2)"
   ]
  },
  {
   "cell_type": "code",
   "execution_count": null,
   "id": "d3d8d56d-21e9-4615-94ce-32a2b28e6683",
   "metadata": {},
   "outputs": [],
   "source": [
    " px.box(df, x='day', y='tip_pct', color='is_smoker')"
   ]
  },
  {
   "cell_type": "code",
   "execution_count": null,
   "id": "c2a366a9-91e2-4703-952a-4c5c8a1bd04f",
   "metadata": {},
   "outputs": [],
   "source": [
    "df.day.unique()"
   ]
  },
  {
   "cell_type": "code",
   "execution_count": null,
   "id": "981fb15c-a063-43d1-b4b0-52415d77e4ee",
   "metadata": {},
   "outputs": [],
   "source": [
    "# Facet by day (small multiples)\n",
    "px.scatter(df, x=\"bill_total_usd\", y=\"tip_pct\", color=\"gender\",\n",
    "           facet_col=\"day\", trendline=\"ols\",\n",
    "           title=\"Tip % vs Bill by Day\").update_yaxes(tickformat=\".0%\")\n"
   ]
  },
  {
   "cell_type": "code",
   "execution_count": null,
   "id": "fe3986ba-8de9-4cfc-9b55-b9ed330928b3",
   "metadata": {},
   "outputs": [],
   "source": [
    "import plotly.express as px\n",
    "\n",
    "fig = px.scatter(\n",
    "    df,\n",
    "    x=\"bill_total_usd\",\n",
    "    y=\"tip_usd\",\n",
    "    color=\"gender\",\n",
    "    trendline=\"ols\",\n",
    "    labels={\n",
    "        \"bill_total_usd\": \"Total Bill ($)\",\n",
    "        \"tip_usd\": \"Tip Amount ($)\",\n",
    "        \"gender\": \"Customer Gender\"\n",
    "    },\n",
    "    title=\"Relationship Between Bill Size and Tip Amount by Gender\"\n",
    ")\n",
    "\n",
    "# Clean up look\n",
    "fig.update_layout(\n",
    "    template=\"plotly_white\",\n",
    "    title_font=dict(size=18, family=\"Arial\", color=\"#222\"),\n",
    "    xaxis=dict(range=[0, df[\"bill_total_usd\"].max() + 5]),\n",
    "    yaxis=dict(range=[0, df[\"tip_usd\"].max() * 1.1]),  # adds a bit of headroom\n",
    ")\n",
    "\n",
    "fig.show()\n",
    "\n",
    "\n",
    "# Save as JPG\n",
    "fig.write_image(\"../reports/figures/Relationship Between Bill Size and Tip Amount by Gender.jpg\", scale=2)\n",
    "\n"
   ]
  },
  {
   "cell_type": "code",
   "execution_count": null,
   "id": "101e933d-97f4-4fbd-97e3-48a59794314a",
   "metadata": {},
   "outputs": [],
   "source": [
    "fig = px.scatter(\n",
    "    df,\n",
    "    x=\"bill_total_usd\",\n",
    "    y=\"tip_pct\",\n",
    "    color=\"gender\",\n",
    "    trendline=\"ols\",\n",
    "    labels={\n",
    "        \"bill_total_usd\": \"Total Bill ($)\",\n",
    "        \"tip_pct\": \"Tip Percentage of Bill\",\n",
    "        \"gender\": \"Customer Gender\"\n",
    "    },\n",
    "    title=\"Tip Percentage vs. Bill Amount by Gender\"\n",
    ")\n",
    "\n",
    "fig.update_layout(\n",
    "    template=\"plotly_white\",\n",
    "    yaxis=dict(\n",
    "        range=[0, 0.35],       # from 0% to 35%\n",
    "        tickformat=\".0%\"       # format y-axis as percent\n",
    "    ),\n",
    "    title_font=dict(size=18, family=\"Arial\", color=\"#222\")\n",
    ")\n",
    "fig.show()\n",
    "\n",
    "\n",
    "# Save as JPG\n",
    "fig.write_image(\"../reports/figures/Tip Percentage vs. Bill Amount by Gender.jpg\", scale=2)\n"
   ]
  },
  {
   "cell_type": "code",
   "execution_count": null,
   "id": "81f994de-188d-406b-8baf-3d14efd8c884",
   "metadata": {},
   "outputs": [],
   "source": [
    "# Boxplot by day & gender\n",
    "px.box(df, x=\"day\", y=\"tip_pct\", color=\"gender\",\n",
    "       title=\"Tip % by Day and Gender\").update_yaxes(tickformat=\".0%\")\n"
   ]
  },
  {
   "cell_type": "markdown",
   "id": "abba0a50-2aef-4018-aa4b-3218b7456e43",
   "metadata": {},
   "source": [
    "## Visual Insights: Tipping Behavior by Gender\n",
    "\n",
    "### 1. Relationship Between Bill Size and Tip Amount (in Dollars)\n",
    "\n",
    "**Figure 1:** Relationship Between Bill Size and Tip Amount by Gender  \n",
    "![Figure](../reports/figures/relationship_bill_vs_tip_by_gender.jpg)\n",
    "\n",
    "- **Description:** This scatter plot shows how the *total bill amount* relates to the *tip amount (in USD)* for male and female customers.  \n",
    "- **Trend:** Both trendlines slope upward — indicating that as the bill grows, the *total dollar amount tipped* increases.  \n",
    "- **Interpretation:**  \n",
    "  People tend to tip more dollars on higher bills.  \n",
    "  The male (red) trendline is slightly steeper, suggesting that male customers may tip marginally higher absolute amounts on large bills.\n",
    "\n",
    "---\n",
    "\n",
    "### 2. Tip Percentage vs. Bill Amount\n",
    "\n",
    "**Figure 2:** Tip Percentage vs. Bill Amount by Gender  \n",
    "\n",
    "![Figure](../reports/figures/tip_percentage_vs_bill_amount_by_gender.jpg)\n",
    "\n",
    "- **Description:** This chart normalizes tipping behavior by expressing the tip as a *percentage of the bill*.  \n",
    "  The trendlines slope slightly downward for both genders.  \n",
    "- **Trend:** As the total bill rises, the tip *percentage* declines — indicating that generosity, when measured relatively, *diminishes* on larger checks.  \n",
    "- **Interpretation:**  \n",
    "  This aligns with common behavioral economics findings: people often tip a fixed \"mental dollar amount\" rather than a strict percentage, leading to lower percentages on expensive meals.  \n",
    "  Gender differences remain minimal — both groups follow a nearly parallel decline in relative generosity.\n",
    "\n",
    "---\n",
    "\n",
    "### 3. Summary Insight\n",
    "\n",
    "Together, these two visualizations reveal an important duality:\n",
    "\n",
    "- **In absolute terms**, higher bills produce higher tips (more dollars).  \n",
    "- **In proportional terms**, generosity decreases slightly with bill size (smaller %).  \n",
    "\n",
    "This dual pattern demonstrates how consumer behavior can appear both *increasing* and *decreasing* depending on the measurement frame — a key reminder for analysts to explore multiple scales before interpreting social data.\n"
   ]
  },
  {
   "cell_type": "code",
   "execution_count": null,
   "id": "4f72e1f9-85a4-4614-b315-8e3ea739f4b6",
   "metadata": {},
   "outputs": [],
   "source": [
    "import os\n",
    "print(\"CWD:\", os.getcwd())\n",
    "print(\".. reports/figures:\", os.path.exists(\"../reports/figures\"))\n",
    "print(\"reports/figures:\", os.path.exists(\"reports/figures\"))\n"
   ]
  },
  {
   "cell_type": "code",
   "execution_count": null,
   "id": "d72c2a77-a947-4c09-93de-ad5280569eed",
   "metadata": {},
   "outputs": [],
   "source": [
    "from IPython.display import Image, display\n",
    "display(Image(filename=\"../reports/figures/relationship_bill_vs_tip_by_gender.jpg\"))\n"
   ]
  },
  {
   "cell_type": "markdown",
   "id": "d79e5285-c66a-498e-b57e-188b6e793893",
   "metadata": {},
   "source": [
    "![Figure](../reports/figures/relationship_bill_vs_tip_by_gender.jpg)\n"
   ]
  },
  {
   "cell_type": "code",
   "execution_count": null,
   "id": "f8039fbf-1cd9-4b90-870c-686d95ae8adb",
   "metadata": {},
   "outputs": [],
   "source": [
    "print(sorted(df.columns.tolist()))"
   ]
  },
  {
   "cell_type": "code",
   "execution_count": null,
   "id": "5ebafe4f-a456-4614-a250-8b9ce6f55f19",
   "metadata": {},
   "outputs": [],
   "source": [
    "#TODO: ■ PART 2 — Interactive Plotly Views (30–45 min)"
   ]
  }
 ],
 "metadata": {
  "kernelspec": {
   "display_name": "Python (ds)",
   "language": "python",
   "name": "ds"
  },
  "language_info": {
   "codemirror_mode": {
    "name": "ipython",
    "version": 3
   },
   "file_extension": ".py",
   "mimetype": "text/x-python",
   "name": "python",
   "nbconvert_exporter": "python",
   "pygments_lexer": "ipython3",
   "version": "3.13.5"
  }
 },
 "nbformat": 4,
 "nbformat_minor": 5
}
